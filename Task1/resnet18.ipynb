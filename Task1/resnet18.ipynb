{
 "cells": [
  {
   "cell_type": "code",
   "execution_count": 71,
   "id": "90fb19ca-78fc-4ecb-9895-33de0633966b",
   "metadata": {},
   "outputs": [],
   "source": [
    "import torch\n",
    "import torch.nn as nn\n",
    "import torch.optim as optim\n",
    "import torchvision\n",
    "from torchvision import datasets, models, transforms\n",
    "from torch.utils.data import DataLoader\n",
    "from sklearn.manifold import TSNE\n",
    "import matplotlib.pyplot as plt\n",
    "import numpy as np\n",
    "import os\n",
    "from torchvision.datasets import ImageFolder\n",
    "import shutil"
   ]
  },
  {
   "cell_type": "code",
   "execution_count": 78,
   "id": "1a7e11cf-1ee4-4c2a-8743-03adc589e1f7",
   "metadata": {},
   "outputs": [],
   "source": [
    "train_dir = \"D:\\Study\\Comp 6321 ML\\Project\\Dataset 1\\Dataset 1\\Colorectal Cancer\\Train\"\n",
    "test_dir = \"D:\\Study\\Comp 6321 ML\\Project\\Dataset 1\\Dataset 1\\Colorectal Cancer\\Test\""
   ]
  },
  {
   "cell_type": "code",
   "execution_count": 79,
   "id": "e09582b3-c297-484b-aa39-11e4181c5939",
   "metadata": {},
   "outputs": [],
   "source": [
    "# Define data transformations\n",
    "data_transforms = {\n",
    "    'train': transforms.Compose([\n",
    "        transforms.Resize(256),\n",
    "        transforms.CenterCrop(224),\n",
    "        transforms.ToTensor(),\n",
    "        transforms.Normalize([0.485, 0.456, 0.406], [0.229, 0.224, 0.225])\n",
    "    ]),\n",
    "    'test': transforms.Compose([\n",
    "        transforms.Resize(256),\n",
    "        transforms.CenterCrop(224),\n",
    "        transforms.ToTensor(),\n",
    "        transforms.Normalize([0.485, 0.456, 0.406], [0.229, 0.224, 0.225])\n",
    "    ]),\n",
    "}"
   ]
  },
  {
   "cell_type": "code",
   "execution_count": 80,
   "id": "b8fb71fc-4098-45fe-adaa-d8e6b55cd289",
   "metadata": {},
   "outputs": [],
   "source": [
    "train_dataset = ImageFolder(train_dir, transform=data_transforms['train'])\n",
    "test_dataset = ImageFolder(test_dir, transform=data_transforms['test'])"
   ]
  },
  {
   "cell_type": "code",
   "execution_count": 81,
   "id": "72a297b6-6876-4dd4-b0f0-0a87338bbe05",
   "metadata": {},
   "outputs": [],
   "source": [
    "# Create DataLoader for train and test\n",
    "train_loader = DataLoader(train_dataset, batch_size=32, shuffle=True, num_workers=4)\n",
    "test_loader = DataLoader(test_dataset, batch_size=32, shuffle=False, num_workers=4)"
   ]
  },
  {
   "cell_type": "code",
   "execution_count": 83,
   "id": "a7c7913b-f18f-43b4-9ad8-a7a6cdee138d",
   "metadata": {},
   "outputs": [],
   "source": [
    "# Define the model - Example using a pre-trained ResNet18\n",
    "model = models.resnet18(pretrained=True)\n",
    "num_ftrs = model.fc.in_features\n",
    "model.fc = nn.Linear(num_ftrs, len(train_dataset.classes))"
   ]
  },
  {
   "cell_type": "code",
   "execution_count": 84,
   "id": "19fa679f-9d2a-46d2-8546-1e6e4e24d0b2",
   "metadata": {},
   "outputs": [],
   "source": [
    "# Define the loss function and optimizer\n",
    "criterion = nn.CrossEntropyLoss()\n",
    "optimizer = optim.SGD(model.parameters(), lr=0.001, momentum=0.9)"
   ]
  },
  {
   "cell_type": "code",
   "execution_count": 85,
   "id": "a588f5dd-d971-4201-af6d-a94d367e4d37",
   "metadata": {},
   "outputs": [],
   "source": [
    "# Train the model\n",
    "def train_model(model, criterion, optimizer, train_loader, test_loader, num_epochs=10):\n",
    "    for epoch in range(num_epochs):\n",
    "        model.train()\n",
    "        running_loss = 0.0\n",
    "        for inputs, labels in train_loader:\n",
    "            optimizer.zero_grad()\n",
    "            outputs = model(inputs)\n",
    "            loss = criterion(outputs, labels)\n",
    "            loss.backward()\n",
    "            optimizer.step()\n",
    "            running_loss += loss.item() * inputs.size(0)\n",
    "        epoch_loss = running_loss / len(train_dataset)\n",
    "        print(f'Epoch [{epoch+1}/{num_epochs}] - Loss: {epoch_loss:.4f}')"
   ]
  },
  {
   "cell_type": "code",
   "execution_count": 86,
   "id": "dd531f84-172d-4ec5-b870-ffaf836f3e92",
   "metadata": {},
   "outputs": [],
   "source": [
    "# Evaluate the model\n",
    "def evaluate_model(model, test_loader):\n",
    "    model.eval()\n",
    "    correct = 0\n",
    "    total = 0\n",
    "    with torch.no_grad():\n",
    "        for inputs, labels in test_loader:\n",
    "            outputs = model(inputs)\n",
    "            _, predicted = torch.max(outputs, 1)\n",
    "            total += labels.size(0)\n",
    "            correct += (predicted == labels).sum().item()\n",
    "    accuracy = correct / total\n",
    "    print(f'Test Accuracy: {accuracy:.4f}')"
   ]
  },
  {
   "cell_type": "code",
   "execution_count": 87,
   "id": "9b2ebedf-55bc-4021-b097-415dc0746016",
   "metadata": {},
   "outputs": [
    {
     "name": "stdout",
     "output_type": "stream",
     "text": [
      "Epoch [1/10] - Loss: 0.3078\n",
      "Epoch [2/10] - Loss: 0.0715\n",
      "Epoch [3/10] - Loss: 0.0510\n",
      "Epoch [4/10] - Loss: 0.0233\n",
      "Epoch [5/10] - Loss: 0.0176\n",
      "Epoch [6/10] - Loss: 0.0114\n",
      "Epoch [7/10] - Loss: 0.0125\n",
      "Epoch [8/10] - Loss: 0.0137\n",
      "Epoch [9/10] - Loss: 0.0070\n",
      "Epoch [10/10] - Loss: 0.0065\n"
     ]
    }
   ],
   "source": [
    "train_model(model, criterion, optimizer, train_loader, test_loader, num_epochs=10)"
   ]
  },
  {
   "cell_type": "code",
   "execution_count": 88,
   "id": "cae47a53-eb94-49dd-9293-6cb23777124c",
   "metadata": {},
   "outputs": [
    {
     "name": "stdout",
     "output_type": "stream",
     "text": [
      "Test Accuracy: 0.9909\n"
     ]
    }
   ],
   "source": [
    "evaluate_model(model, test_loader)"
   ]
  },
  {
   "cell_type": "code",
   "execution_count": null,
   "id": "22a2ac7a-d747-4404-a015-1f92f7eb59d3",
   "metadata": {},
   "outputs": [],
   "source": []
  }
 ],
 "metadata": {
  "kernelspec": {
   "display_name": "Python 3 (ipykernel)",
   "language": "python",
   "name": "python3"
  },
  "language_info": {
   "codemirror_mode": {
    "name": "ipython",
    "version": 3
   },
   "file_extension": ".py",
   "mimetype": "text/x-python",
   "name": "python",
   "nbconvert_exporter": "python",
   "pygments_lexer": "ipython3",
   "version": "3.11.4"
  }
 },
 "nbformat": 4,
 "nbformat_minor": 5
}
