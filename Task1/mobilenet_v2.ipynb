{
  "nbformat": 4,
  "nbformat_minor": 0,
  "metadata": {
    "colab": {
      "provenance": []
    },
    "kernelspec": {
      "name": "python3",
      "display_name": "Python 3"
    },
    "language_info": {
      "name": "python"
    }
  },
  "cells": [
    {
      "cell_type": "code",
      "source": [
        "!unzip \"/content/Dataset 1.zip\""
      ],
      "metadata": {
        "id": "1zgp-NB4cI5E"
      },
      "execution_count": null,
      "outputs": []
    },
    {
      "cell_type": "code",
      "source": [
        "import torch\n",
        "import torch.nn as nn\n",
        "import torch.optim as optim\n",
        "from torch.utils.data import DataLoader\n",
        "from torchvision import datasets, transforms, models\n",
        "import os\n",
        "import cv2\n",
        "\n",
        "# Function to load images and labels from the dataset folder\n",
        "def load_dataset(folder_path):\n",
        "    X = []  # List to store images\n",
        "    Y = []  # List to store corresponding labels\n",
        "\n",
        "    # Loop through each class in the dataset\n",
        "    for class_name in os.listdir(folder_path):\n",
        "        class_path = os.path.join(folder_path, class_name)\n",
        "\n",
        "        # Ignore hidden files or directories (those starting with '.')\n",
        "        if not class_name.startswith('.'):\n",
        "            # Loop through each image in the class\n",
        "            for filename in os.listdir(class_path):\n",
        "                if not filename.startswith('.'):\n",
        "                    image_path = os.path.join(class_path, filename)\n",
        "\n",
        "                    # Load image using OpenCV or any other image loading library\n",
        "                    image = cv2.imread(image_path)\n",
        "\n",
        "                    # Preprocess your images if needed\n",
        "                    # Example: Resize images to a specific size (e.g., 224x224) and normalize\n",
        "                    image = cv2.resize(image, (224, 224))\n",
        "                    image = image.astype('float') / 255.0  # Normalize to the range [0, 1]\n",
        "\n",
        "                    # Append image and label to X and Y\n",
        "                    X.append(image)\n",
        "                    Y.append(class_name)\n",
        "\n",
        "    return X, Y\n",
        "\n",
        "# Define the path to your dataset\n",
        "data_path = \"/content/Dataset 1/Colorectal Cancer \"\n",
        "\n",
        "# Define data transformations\n",
        "data_transforms = {\n",
        "    'train': transforms.Compose([\n",
        "        transforms.Resize((224, 224)),\n",
        "        transforms.ToTensor(),\n",
        "    ]),\n",
        "}\n",
        "\n",
        "# Create a single DataLoader for the entire dataset\n",
        "dataset = datasets.ImageFolder(root=data_path, transform=data_transforms['train'])\n",
        "dataloaders = DataLoader(dataset, batch_size=32, shuffle=True, num_workers=0)\n",
        "\n",
        "# Check if GPU is available, otherwise use CPU\n",
        "device = torch.device(\"cuda:0\" if torch.cuda.is_available() else \"cpu\")\n",
        "\n",
        "# Load pre-trained MobileNetV2 model\n",
        "model = models.mobilenet_v2(pretrained=True)\n",
        "\n",
        "# Modify the classifier for your specific classification task\n",
        "model.classifier[1] = nn.Linear(1280, len(dataset.classes))  # Adjust to the number of classes\n",
        "\n",
        "# Send the model to GPU if available\n",
        "model = model.to(device)\n",
        "\n",
        "# Define loss function and optimizer\n",
        "criterion = nn.CrossEntropyLoss()\n",
        "optimizer = optim.Adam(model.parameters(), lr=0.001)\n",
        "\n",
        "# Train the model\n",
        "num_epochs = 10\n",
        "\n",
        "for epoch in range(num_epochs):\n",
        "    model.train()\n",
        "\n",
        "    running_loss = 0.0\n",
        "    corrects = 0\n",
        "\n",
        "    for inputs, labels in dataloaders:\n",
        "        inputs, labels = inputs.to(device), labels.to(device)\n",
        "\n",
        "        optimizer.zero_grad()\n",
        "\n",
        "        outputs = model(inputs)\n",
        "        loss = criterion(outputs, labels)\n",
        "\n",
        "        loss.backward()\n",
        "        optimizer.step()\n",
        "\n",
        "        running_loss += loss.item() * inputs.size(0)\n",
        "        _, preds = torch.max(outputs, 1)\n",
        "        corrects += torch.sum(preds == labels.data)\n",
        "\n",
        "    epoch_loss = running_loss / len(dataset)\n",
        "    epoch_acc = corrects.double() / len(dataset)\n",
        "\n",
        "    print(f'Epoch {epoch + 1}/{num_epochs} Loss: {epoch_loss:.4f} Acc: {epoch_acc:.4f}')\n",
        "\n",
        "print(\"Training complete!\")\n"
      ],
      "metadata": {
        "id": "l2PSNP209cDY",
        "colab": {
          "base_uri": "https://localhost:8080/"
        },
        "outputId": "11ce4f8a-e0a9-4b6e-a387-2c11f4041ade"
      },
      "execution_count": 24,
      "outputs": [
        {
          "output_type": "stream",
          "name": "stdout",
          "text": [
            "Epoch 1/10 Loss: 0.1927 Acc: 0.9278\n",
            "Epoch 2/10 Loss: 0.1084 Acc: 0.9645\n",
            "Epoch 3/10 Loss: 0.0782 Acc: 0.9730\n",
            "Epoch 4/10 Loss: 0.0750 Acc: 0.9757\n",
            "Epoch 5/10 Loss: 0.0396 Acc: 0.9867\n",
            "Epoch 6/10 Loss: 0.0765 Acc: 0.9737\n",
            "Epoch 7/10 Loss: 0.0335 Acc: 0.9885\n",
            "Epoch 8/10 Loss: 0.0253 Acc: 0.9905\n",
            "Epoch 9/10 Loss: 0.0418 Acc: 0.9867\n",
            "Epoch 10/10 Loss: 0.0359 Acc: 0.9883\n",
            "Training complete!\n"
          ]
        }
      ]
    }
  ]
}